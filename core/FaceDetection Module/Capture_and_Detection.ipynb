import cv2
import numpy

def liveCapture()->None:
    '''This is a funtion that will return a real time photo
    captured from your laptops web cam 
    contributed by Nishchay Sharma
    '''

    #Capturing from the 0th web camera
    camera=cv2.VideoCapture(0)

    #rec will get True or False and so the captured will store the frame.
    rec,captured=camera.read()

    #writing image to local path
    cv2.imwrite("photo.jpg",captured)

    #releasing the camera
    camera.release()

    #Destroy the window created previously
    cv2.destroyAllWindows() 

def detectFaceEye()->bool:
    '''
    This is a function that will check for eyes and face in
    a captured photo and will True if a photo is found else
    it will return False
    contributed by Piyush Pant
    '''

    #Getting path for the cascader files.
    #new_path='C:\\Users\\HP\\Anaconda3\\Lib\\site-packages\\opencv\\build\\etc\\haarcascades\\'

    #Reference for face cascade
    face_cascade=cv2.CascadeClassifier('Cascaders\\haarcascade_frontalface_default.xml')

    #Reference for eye cascade
    eye_cascade=cv2.CascadeClassifier('Cascaders\\haarcascade_eye.xml')
    
    smile_cascade=cv2.CascadeClassifier('Cascaders\\haarcascade_smile.xml')
    
    #Capture a photo
    liveCapture()

    #Reading the photo in gray scale format
    img=cv2.imread('photo.jpg')
    gray=cv2.cvtColor(img,cv2.COLOR_BGR2GRAY)
    
    #Scale factor=1.5 and 
    faces=face_cascade.detectMultiScale(gray, 1.5, 5)

    flag=False
    
    #Detect cordinated of face
    for (fx,fy,fw,fh) in faces:
        
        #If any value found then flag=True
        flag=True
        
        #Creating a rectangle around the face
        img=cv2.rectangle(img,(fx,fy),(fx+fw,fy+fh),(255,0,0),2)
        roi_gray = gray[fy:fy+fh, fx:fx+fw]
        roi_color = img[fy:fy+fh, fx:fx+fw]
        eyes = eye_cascade.detectMultiScale(roi_gray)
        
        #Detect eye
        for (ex,ey,ew,eh) in eyes:

            #Creating rectangles around eyes
            cv2.rectangle(roi_color,(ex,ey),(ex+ew,ey+eh),(0,255,0),2)
        
        smiles = smile_cascade.detectMultiScale(roi_gray,
            scaleFactor= 1.7,
            minNeighbors=22,
            minSize=(25, 25),
            flags=cv2.CASCADE_SCALE_IMAGE)
        for(sx,sy,sw,sh) in smiles:
            cv2.rectangle(roi_color, (sx, sy), (sx+sw, sy+sh), (0, 0, 255), 1)
    '''In case you want to view the image output then remove the below comment'''
    #cv2.imshow('img',img);cv2.waitKey(0)
    cv2.imwrite('detected.jpg',img)
    cv2.destroyAllWindows()
    return flag

detectFaceEye()
